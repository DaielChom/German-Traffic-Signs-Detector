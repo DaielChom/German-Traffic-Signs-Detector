{
 "cells": [
  {
   "cell_type": "markdown",
   "metadata": {},
   "source": [
    "# Pruebas del Kiwi Challenge"
   ]
  },
  {
   "cell_type": "code",
   "execution_count": 35,
   "metadata": {},
   "outputs": [],
   "source": [
    "import pandas as pd\n",
    "from skimage import io\n",
    "import matplotlib.pyplot as plt\n",
    "import numpy as np\n",
    "import os\n",
    "from IPython.display import Image\n",
    "from scipy.signal import convolve2d\n",
    "from PIL import Image\n",
    "from skimage.feature import hog\n",
    "%matplotlib inline"
   ]
  },
  {
   "cell_type": "markdown",
   "metadata": {},
   "source": [
    "## 1. Exploracion del Dataset"
   ]
  },
  {
   "cell_type": "markdown",
   "metadata": {},
   "source": [
    "Se cuentan con imagenes `.ppm` las cuales muestran señales de transito."
   ]
  },
  {
   "cell_type": "code",
   "execution_count": 25,
   "metadata": {},
   "outputs": [
    {
     "data": {
      "text/plain": [
       "<matplotlib.image.AxesImage at 0xb1cfbe7e48>"
      ]
     },
     "execution_count": 25,
     "metadata": {},
     "output_type": "execute_result"
    },
    {
     "data": {
      "image/png": "[encoded data removed]",
      "text/plain": [
       "<Figure size 432x288 with 1 Axes>"
      ]
     },
     "metadata": {},
     "output_type": "display_data"
    }
   ],
   "source": [
    "img = io.imread(\"img/00001_01.ppm\")\n",
    "plt.imshow(img)"
   ]
  },
  {
   "cell_type": "code",
   "execution_count": 23,
   "metadata": {},
   "outputs": [
    {
     "data": {
      "text/plain": [
       "(55, 56, 3)"
      ]
     },
     "execution_count": 23,
     "metadata": {},
     "output_type": "execute_result"
    }
   ],
   "source": [
    "img.shape"
   ]
  },
  {
   "cell_type": "markdown",
   "metadata": {},
   "source": [
    "Y con un total de 42 Clases como se observa en el archivo `class.csv`"
   ]
  },
  {
   "cell_type": "code",
   "execution_count": 5,
   "metadata": {},
   "outputs": [
    {
     "data": {
      "text/html": [
       "<div>\n",
       "<style scoped>\n",
       "    .dataframe tbody tr th:only-of-type {\n",
       "        vertical-align: middle;\n",
       "    }\n",
       "\n",
       "    .dataframe tbody tr th {\n",
       "        vertical-align: top;\n",
       "    }\n",
       "\n",
       "    .dataframe thead th {\n",
       "        text-align: right;\n",
       "    }\n",
       "</style>\n",
       "<table border=\"1\" class=\"dataframe\">\n",
       "  <thead>\n",
       "    <tr style=\"text-align: right;\">\n",
       "      <th></th>\n",
       "      <th>classID</th>\n",
       "      <th>className</th>\n",
       "    </tr>\n",
       "  </thead>\n",
       "  <tbody>\n",
       "    <tr>\n",
       "      <th>0</th>\n",
       "      <td>0</td>\n",
       "      <td>speed limit 20 (prohibitory)</td>\n",
       "    </tr>\n",
       "    <tr>\n",
       "      <th>1</th>\n",
       "      <td>1</td>\n",
       "      <td>speed limit 30 (prohibitory)</td>\n",
       "    </tr>\n",
       "    <tr>\n",
       "      <th>2</th>\n",
       "      <td>2</td>\n",
       "      <td>speed limit 50 (prohibitory)</td>\n",
       "    </tr>\n",
       "    <tr>\n",
       "      <th>3</th>\n",
       "      <td>3</td>\n",
       "      <td>speed limit 60 (prohibitory)</td>\n",
       "    </tr>\n",
       "    <tr>\n",
       "      <th>4</th>\n",
       "      <td>4</td>\n",
       "      <td>speed limit 70 (prohibitory)</td>\n",
       "    </tr>\n",
       "  </tbody>\n",
       "</table>\n",
       "</div>"
      ],
      "text/plain": [
       "   classID                      className\n",
       "0        0   speed limit 20 (prohibitory)\n",
       "1        1   speed limit 30 (prohibitory)\n",
       "2        2   speed limit 50 (prohibitory)\n",
       "3        3   speed limit 60 (prohibitory)\n",
       "4        4   speed limit 70 (prohibitory)"
      ]
     },
     "execution_count": 5,
     "metadata": {},
     "output_type": "execute_result"
    }
   ],
   "source": [
    "class_name = pd.read_csv(\"images/class.csv\")\n",
    "class_name.head()"
   ]
  },
  {
   "cell_type": "markdown",
   "metadata": {},
   "source": [
    "cada imagen del directorio `images/` tiene una clase y otros parametros asignados."
   ]
  },
  {
   "cell_type": "code",
   "execution_count": 17,
   "metadata": {},
   "outputs": [
    {
     "data": {
      "text/html": [
       "<div>\n",
       "<style scoped>\n",
       "    .dataframe tbody tr th:only-of-type {\n",
       "        vertical-align: middle;\n",
       "    }\n",
       "\n",
       "    .dataframe tbody tr th {\n",
       "        vertical-align: top;\n",
       "    }\n",
       "\n",
       "    .dataframe thead th {\n",
       "        text-align: right;\n",
       "    }\n",
       "</style>\n",
       "<table border=\"1\" class=\"dataframe\">\n",
       "  <thead>\n",
       "    <tr style=\"text-align: right;\">\n",
       "      <th></th>\n",
       "      <th>imgName</th>\n",
       "      <th>classID</th>\n",
       "    </tr>\n",
       "  </thead>\n",
       "  <tbody>\n",
       "    <tr>\n",
       "      <th>0</th>\n",
       "      <td>0000000.ppm</td>\n",
       "      <td>0</td>\n",
       "    </tr>\n",
       "    <tr>\n",
       "      <th>1</th>\n",
       "      <td>0000001.ppm</td>\n",
       "      <td>0</td>\n",
       "    </tr>\n",
       "    <tr>\n",
       "      <th>2</th>\n",
       "      <td>0000002.ppm</td>\n",
       "      <td>0</td>\n",
       "    </tr>\n",
       "    <tr>\n",
       "      <th>3</th>\n",
       "      <td>0100000.ppm</td>\n",
       "      <td>1</td>\n",
       "    </tr>\n",
       "    <tr>\n",
       "      <th>4</th>\n",
       "      <td>0100001.ppm</td>\n",
       "      <td>1</td>\n",
       "    </tr>\n",
       "  </tbody>\n",
       "</table>\n",
       "</div>"
      ],
      "text/plain": [
       "       imgName  classID\n",
       "0  0000000.ppm        0\n",
       "1  0000001.ppm        0\n",
       "2  0000002.ppm        0\n",
       "3  0100000.ppm        1\n",
       "4  0100001.ppm        1"
      ]
     },
     "execution_count": 17,
     "metadata": {},
     "output_type": "execute_result"
    }
   ],
   "source": [
    "target = pd.read_csv(\"images/target_train.csv\")\n",
    "target.head()"
   ]
  },
  {
   "cell_type": "code",
   "execution_count": 116,
   "metadata": {},
   "outputs": [
    {
     "data": {
      "text/html": [
       "<div>\n",
       "<style scoped>\n",
       "    .dataframe tbody tr th:only-of-type {\n",
       "        vertical-align: middle;\n",
       "    }\n",
       "\n",
       "    .dataframe tbody tr th {\n",
       "        vertical-align: top;\n",
       "    }\n",
       "\n",
       "    .dataframe thead th {\n",
       "        text-align: right;\n",
       "    }\n",
       "</style>\n",
       "<table border=\"1\" class=\"dataframe\">\n",
       "  <thead>\n",
       "    <tr style=\"text-align: right;\">\n",
       "      <th></th>\n",
       "      <th>imgName</th>\n",
       "      <th>classID</th>\n",
       "    </tr>\n",
       "  </thead>\n",
       "  <tbody>\n",
       "    <tr>\n",
       "      <th>0</th>\n",
       "      <td>0000003.ppm</td>\n",
       "      <td>0</td>\n",
       "    </tr>\n",
       "    <tr>\n",
       "      <th>1</th>\n",
       "      <td>0100063.ppm</td>\n",
       "      <td>1</td>\n",
       "    </tr>\n",
       "    <tr>\n",
       "      <th>2</th>\n",
       "      <td>0100064.ppm</td>\n",
       "      <td>1</td>\n",
       "    </tr>\n",
       "    <tr>\n",
       "      <th>3</th>\n",
       "      <td>0100065.ppm</td>\n",
       "      <td>1</td>\n",
       "    </tr>\n",
       "    <tr>\n",
       "      <th>4</th>\n",
       "      <td>0100066.ppm</td>\n",
       "      <td>1</td>\n",
       "    </tr>\n",
       "  </tbody>\n",
       "</table>\n",
       "</div>"
      ],
      "text/plain": [
       "       imgName  classID\n",
       "0  0000003.ppm        0\n",
       "1  0100063.ppm        1\n",
       "2  0100064.ppm        1\n",
       "3  0100065.ppm        1\n",
       "4  0100066.ppm        1"
      ]
     },
     "execution_count": 116,
     "metadata": {},
     "output_type": "execute_result"
    }
   ],
   "source": [
    "target_test = pd.read_csv(\"images/target_test.csv\")\n",
    "target_test.head()"
   ]
  },
  {
   "cell_type": "markdown",
   "metadata": {},
   "source": [
    "como por ejemplo la imagen de ahi arriba"
   ]
  },
  {
   "cell_type": "code",
   "execution_count": 67,
   "metadata": {},
   "outputs": [
    {
     "data": {
      "text/html": [
       "<div>\n",
       "<style scoped>\n",
       "    .dataframe tbody tr th:only-of-type {\n",
       "        vertical-align: middle;\n",
       "    }\n",
       "\n",
       "    .dataframe tbody tr th {\n",
       "        vertical-align: top;\n",
       "    }\n",
       "\n",
       "    .dataframe thead th {\n",
       "        text-align: right;\n",
       "    }\n",
       "</style>\n",
       "<table border=\"1\" class=\"dataframe\">\n",
       "  <thead>\n",
       "    <tr style=\"text-align: right;\">\n",
       "      <th></th>\n",
       "      <th>Img_num</th>\n",
       "      <th>classID</th>\n",
       "    </tr>\n",
       "  </thead>\n",
       "  <tbody>\n",
       "    <tr>\n",
       "      <th>5</th>\n",
       "      <td>00001.ppm</td>\n",
       "      <td>1</td>\n",
       "    </tr>\n",
       "  </tbody>\n",
       "</table>\n",
       "</div>"
      ],
      "text/plain": [
       "     Img_num  classID\n",
       "5  00001.ppm        1"
      ]
     },
     "execution_count": 67,
     "metadata": {},
     "output_type": "execute_result"
    }
   ],
   "source": [
    "target.query(\"Img_num == '00001.ppm'\").query(\"classID == 1\")"
   ]
  },
  {
   "cell_type": "markdown",
   "metadata": {},
   "source": [
    "## ¿Cual es el tamaño de las imagenes?"
   ]
  },
  {
   "cell_type": "code",
   "execution_count": null,
   "metadata": {},
   "outputs": [],
   "source": []
  },
  {
   "cell_type": "markdown",
   "metadata": {},
   "source": [
    "## Division en Train y Test"
   ]
  },
  {
   "cell_type": "code",
   "execution_count": 96,
   "metadata": {},
   "outputs": [
    {
     "name": "stdout",
     "output_type": "stream",
     "text": [
      "Division en Train y Test sin tener en cuenta las clases\n",
      "Total imagenes:  1213\n",
      "80%: 970\n",
      "20%: 243\n",
      "100%: 1213\n"
     ]
    }
   ],
   "source": [
    "print(\"Division en Train y Test sin tener en cuenta las clases\")\n",
    "print(\"Total imagenes: \", len(target))\n",
    "print(\"80%:\",round(len(target)*0.8))\n",
    "print(\"20%:\",round(len(target)*0.2))\n",
    "print(\"100%:\",round(len(target)*0.8)+round(len(target)*0.2))"
   ]
  },
  {
   "cell_type": "code",
   "execution_count": 85,
   "metadata": {},
   "outputs": [
    {
     "name": "stdout",
     "output_type": "stream",
     "text": [
      "CLASS_ID 80% COUNT 20% COUNT TOTAL COUNT 100% COUNT ¿TOTAL == 100%?\n",
      "00 3 1 4 4 True\n",
      "01 63 16 79 79 True\n",
      "02 65 16 81 81 True\n",
      "03 24 6 30 30 True\n",
      "04 54 14 68 68 True\n",
      "05 42 11 53 53 True\n",
      "06 15 4 19 19 True\n",
      "07 33 8 41 41 True\n",
      "08 46 11 57 57 True\n",
      "09 33 8 41 41 True\n",
      "10 64 16 80 80 True\n",
      "11 30 8 38 38 True\n",
      "12 68 17 85 85 True\n",
      "13 66 17 83 83 True\n",
      "14 26 6 32 32 True\n",
      "15 12 3 15 15 True\n",
      "16 6 2 8 8 True\n",
      "17 23 6 29 29 True\n",
      "18 30 8 38 38 True\n",
      "19 1 1 2 2 True\n",
      "20 7 2 9 9 True\n",
      "21 4 1 5 5 True\n",
      "22 10 3 13 13 True\n",
      "23 16 4 20 20 True\n",
      "24 4 1 5 5 True\n",
      "25 25 6 31 31 True\n",
      "26 14 4 18 18 True\n",
      "27 2 1 3 3 True\n",
      "28 11 3 14 14 True\n",
      "29 4 1 5 5 True\n",
      "30 13 3 16 16 True\n",
      "31 1 1 2 2 True\n",
      "32 6 2 8 8 True\n",
      "33 13 3 16 16 True\n",
      "34 10 2 12 12 True\n",
      "35 16 4 20 20 True\n",
      "36 7 2 9 9 True\n",
      "37 1 1 2 2 True\n",
      "38 70 18 88 88 True\n",
      "39 5 1 6 6 True\n",
      "40 8 2 10 10 True\n",
      "41 6 1 7 7 True\n",
      "42 9 2 11 11 True\n"
     ]
    }
   ],
   "source": [
    "path_dataset = \"./images/FullIJCNN2013.zip\"\n",
    "print(\"CLASS_ID\",\"80% COUNT\", \"20% COUNT\", \"TOTAL COUNT\", \"100% COUNT\", \"¿TOTAL == 100%?\")\n",
    "for tag in range(43):\n",
    "    if tag < 10:\n",
    "        tag = \"0\"+str(tag)\n",
    "    \n",
    "    images = len(os.listdir(path_dataset[:-4]+\"/\"+str(tag)+\"/\"))\n",
    "    per_80 = round(images*0.8)\n",
    "    per_20 = round(images*0.2)\n",
    "    if(per_20) == 0:\n",
    "        per_80 = 1\n",
    "        per_20 = 1\n",
    "    print(tag, per_80, per_20, images, sum([per_80, per_20]), images==sum([per_80, per_20]))\n",
    "    "
   ]
  },
  {
   "cell_type": "code",
   "execution_count": 97,
   "metadata": {},
   "outputs": [
    {
     "name": "stdout",
     "output_type": "stream",
     "text": [
      "Division en Train y Test teniendo en cuenta las clases\n",
      "Total imagenes:  1213\n",
      "80%: 966\n",
      "20%: 247\n",
      "100%: 1213\n"
     ]
    }
   ],
   "source": [
    "print(\"Division en Train y Test teniendo en cuenta las clases\")\n",
    "print(\"Total imagenes: \", len(target))\n",
    "print(\"80%:\",len(os.listdir(\"./images/train/\")))\n",
    "print(\"20%:\",len(os.listdir(\"./images/test/\")))\n",
    "print(\"100%:\",len(os.listdir(\"./images/train/\"))+len(os.listdir(\"./images/test/\")))\n"
   ]
  },
  {
   "cell_type": "markdown",
   "metadata": {},
   "source": [
    "### logistic regression model using scikit-learn"
   ]
  },
  {
   "cell_type": "markdown",
   "metadata": {},
   "source": [
    "Nota, como son imagenes de distintos tamaños lo que opino que se debe realizar es una extraccion de caracteristicas como el histograma y ahi si entrenar con estas imagenes"
   ]
  },
  {
   "cell_type": "code",
   "execution_count": null,
   "metadata": {},
   "outputs": [],
   "source": [
    "def load_dataset()"
   ]
  },
  {
   "cell_type": "code",
   "execution_count": 30,
   "metadata": {},
   "outputs": [
    {
     "name": "stdout",
     "output_type": "stream",
     "text": [
      "(30, 30, 3)\n",
      "(26, 27, 3)\n",
      "(65, 65, 3)\n",
      "(61, 51, 3)\n",
      "(55, 56, 3)\n",
      "(80, 77, 3)\n",
      "(41, 40, 3)\n",
      "(32, 32, 3)\n",
      "(50, 47, 3)\n",
      "(29, 29, 3)\n",
      "(30, 30, 3)\n",
      "(40, 36, 3)\n",
      "(51, 44, 3)\n",
      "(21, 22, 3)\n",
      "(41, 40, 3)\n",
      "(28, 28, 3)\n",
      "(26, 26, 3)\n",
      "(27, 27, 3)\n",
      "(67, 66, 3)\n",
      "(59, 60, 3)\n",
      "(30, 31, 3)\n",
      "(20, 18, 3)\n",
      "(35, 35, 3)\n",
      "(20, 20, 3)\n",
      "(51, 51, 3)\n",
      "(62, 61, 3)\n",
      "(22, 21, 3)\n",
      "(92, 89, 3)\n",
      "(62, 61, 3)\n",
      "(42, 42, 3)\n",
      "(37, 38, 3)\n",
      "(41, 43, 3)\n",
      "(66, 55, 3)\n",
      "(67, 69, 3)\n",
      "(67, 69, 3)\n",
      "(62, 62, 3)\n",
      "(34, 33, 3)\n",
      "(29, 29, 3)\n",
      "(38, 38, 3)\n",
      "(64, 65, 3)\n",
      "(29, 29, 3)\n",
      "(20, 21, 3)\n",
      "(33, 33, 3)\n",
      "(47, 47, 3)\n",
      "(46, 46, 3)\n",
      "(23, 23, 3)\n",
      "(35, 34, 3)\n",
      "(26, 26, 3)\n",
      "(25, 25, 3)\n",
      "(96, 99, 3)\n",
      "(21, 19, 3)\n",
      "(46, 47, 3)\n",
      "(41, 40, 3)\n",
      "(57, 57, 3)\n",
      "(53, 52, 3)\n",
      "(35, 35, 3)\n",
      "(55, 54, 3)\n",
      "(27, 27, 3)\n",
      "(30, 29, 3)\n",
      "(31, 30, 3)\n",
      "(42, 42, 3)\n",
      "(36, 37, 3)\n",
      "(32, 34, 3)\n",
      "(45, 45, 3)\n",
      "(47, 46, 3)\n",
      "(32, 32, 3)\n",
      "(53, 50, 3)\n",
      "(65, 64, 3)\n",
      "(27, 27, 3)\n",
      "(76, 78, 3)\n",
      "(43, 44, 3)\n",
      "(56, 56, 3)\n",
      "(56, 56, 3)\n",
      "(24, 24, 3)\n",
      "(62, 62, 3)\n",
      "(24, 23, 3)\n",
      "(22, 22, 3)\n",
      "(21, 22, 3)\n",
      "(23, 23, 3)\n",
      "(25, 27, 3)\n",
      "(103, 107, 3)\n",
      "(89, 88, 3)\n",
      "(31, 29, 3)\n",
      "(32, 33, 3)\n",
      "(38, 38, 3)\n",
      "(20, 20, 3)\n",
      "(19, 19, 3)\n",
      "(42, 42, 3)\n",
      "(24, 24, 3)\n",
      "(23, 22, 3)\n",
      "(124, 124, 3)\n",
      "(25, 25, 3)\n",
      "(27, 26, 3)\n",
      "(21, 21, 3)\n",
      "(38, 37, 3)\n",
      "(30, 30, 3)\n",
      "(108, 110, 3)\n",
      "(35, 35, 3)\n",
      "(36, 34, 3)\n",
      "(43, 43, 3)\n",
      "(24, 25, 3)\n",
      "(34, 33, 3)\n",
      "(26, 26, 3)\n",
      "(67, 66, 3)\n",
      "(21, 21, 3)\n",
      "(27, 27, 3)\n",
      "(52, 51, 3)\n",
      "(54, 55, 3)\n",
      "(40, 39, 3)\n",
      "(41, 41, 3)\n",
      "(31, 30, 3)\n",
      "(34, 34, 3)\n",
      "(58, 59, 3)\n",
      "(42, 42, 3)\n",
      "(76, 77, 3)\n",
      "(24, 23, 3)\n",
      "(51, 51, 3)\n",
      "(30, 30, 3)\n",
      "(69, 67, 3)\n",
      "(38, 38, 3)\n",
      "(29, 32, 3)\n",
      "(28, 30, 3)\n",
      "(58, 59, 3)\n",
      "(39, 38, 3)\n",
      "(49, 49, 3)\n",
      "(25, 25, 3)\n",
      "(67, 66, 3)\n",
      "(39, 39, 3)\n",
      "(46, 46, 3)\n",
      "(41, 41, 3)\n",
      "(30, 32, 3)\n",
      "(30, 31, 3)\n",
      "(33, 33, 3)\n",
      "(33, 33, 3)\n",
      "(36, 34, 3)\n",
      "(40, 40, 3)\n",
      "(64, 63, 3)\n",
      "(39, 37, 3)\n",
      "(23, 24, 3)\n",
      "(25, 26, 3)\n",
      "(48, 48, 3)\n",
      "(46, 44, 3)\n",
      "(50, 47, 3)\n",
      "(48, 47, 3)\n",
      "(39, 39, 3)\n",
      "(24, 24, 3)\n",
      "(23, 23, 3)\n",
      "(57, 56, 3)\n",
      "(37, 37, 3)\n",
      "(39, 38, 3)\n",
      "(75, 77, 3)\n",
      "(61, 61, 3)\n",
      "(41, 41, 3)\n",
      "(35, 35, 3)\n",
      "(48, 47, 3)\n",
      "(24, 24, 3)\n",
      "(25, 25, 3)\n",
      "(32, 32, 3)\n",
      "(23, 23, 3)\n",
      "(48, 49, 3)\n",
      "(27, 27, 3)\n",
      "(27, 27, 3)\n",
      "(20, 20, 3)\n",
      "(88, 91, 3)\n",
      "(37, 33, 3)\n",
      "(51, 51, 3)\n",
      "(61, 61, 3)\n",
      "(20, 19, 3)\n",
      "(21, 21, 3)\n",
      "(24, 25, 3)\n",
      "(106, 108, 3)\n",
      "(44, 44, 3)\n",
      "(32, 32, 3)\n",
      "(35, 35, 3)\n",
      "(36, 36, 3)\n",
      "(23, 25, 3)\n",
      "(42, 42, 3)\n",
      "(42, 42, 3)\n",
      "(25, 25, 3)\n",
      "(28, 27, 3)\n",
      "(62, 62, 3)\n",
      "(58, 58, 3)\n",
      "(56, 55, 3)\n",
      "(56, 57, 3)\n",
      "(21, 20, 3)\n",
      "(20, 19, 3)\n",
      "(40, 40, 3)\n",
      "(35, 36, 3)\n",
      "(33, 33, 3)\n",
      "(35, 34, 3)\n",
      "(22, 22, 3)\n",
      "(34, 34, 3)\n",
      "(27, 27, 3)\n",
      "(61, 61, 3)\n",
      "(71, 67, 3)\n",
      "(35, 36, 3)\n",
      "(72, 72, 3)\n",
      "(32, 32, 3)\n",
      "(23, 23, 3)\n",
      "(28, 28, 3)\n",
      "(52, 51, 3)\n",
      "(68, 68, 3)\n",
      "(24, 25, 3)\n",
      "(23, 23, 3)\n",
      "(23, 22, 3)\n",
      "(37, 37, 3)\n",
      "(52, 50, 3)\n",
      "(25, 25, 3)\n",
      "(23, 22, 3)\n",
      "(31, 30, 3)\n",
      "(28, 27, 3)\n",
      "(56, 57, 3)\n",
      "(39, 38, 3)\n",
      "(38, 38, 3)\n",
      "(26, 26, 3)\n",
      "(27, 26, 3)\n",
      "(22, 22, 3)\n",
      "(22, 22, 3)\n",
      "(28, 26, 3)\n",
      "(28, 28, 3)\n",
      "(24, 24, 3)\n",
      "(25, 24, 3)\n",
      "(38, 33, 3)\n",
      "(113, 104, 3)\n",
      "(37, 35, 3)\n",
      "(35, 34, 3)\n",
      "(44, 44, 3)\n",
      "(44, 44, 3)\n",
      "(31, 31, 3)\n",
      "(29, 29, 3)\n",
      "(39, 39, 3)\n",
      "(28, 28, 3)\n",
      "(57, 57, 3)\n",
      "(41, 41, 3)\n",
      "(42, 42, 3)\n",
      "(97, 95, 3)\n",
      "(93, 91, 3)\n",
      "(23, 23, 3)\n",
      "(47, 46, 3)\n",
      "(43, 42, 3)\n",
      "(41, 41, 3)\n",
      "(43, 43, 3)\n",
      "(41, 41, 3)\n",
      "(48, 49, 3)\n",
      "(37, 41, 3)\n",
      "(41, 41, 3)\n",
      "(38, 38, 3)\n",
      "(36, 36, 3)\n",
      "(38, 36, 3)\n",
      "(51, 51, 3)\n",
      "(46, 46, 3)\n",
      "(36, 35, 3)\n",
      "(36, 35, 3)\n",
      "(44, 42, 3)\n",
      "(46, 45, 3)\n",
      "(48, 46, 3)\n",
      "(47, 45, 3)\n",
      "(57, 56, 3)\n",
      "(47, 44, 3)\n",
      "(49, 42, 3)\n",
      "(28, 28, 3)\n",
      "(28, 28, 3)\n",
      "(44, 44, 3)\n",
      "(43, 43, 3)\n",
      "(50, 45, 3)\n",
      "(51, 50, 3)\n",
      "(109, 95, 3)\n",
      "(23, 22, 3)\n",
      "(23, 22, 3)\n",
      "(33, 32, 3)\n",
      "(34, 33, 3)\n",
      "(47, 43, 3)\n",
      "(51, 51, 3)\n",
      "(34, 33, 3)\n",
      "(33, 33, 3)\n",
      "(44, 41, 3)\n",
      "(46, 45, 3)\n",
      "(70, 66, 3)\n",
      "(48, 47, 3)\n",
      "(49, 49, 3)\n",
      "(47, 46, 3)\n",
      "(49, 47, 3)\n",
      "(29, 29, 3)\n",
      "(30, 30, 3)\n",
      "(32, 31, 3)\n",
      "(30, 30, 3)\n",
      "(33, 33, 3)\n",
      "(32, 32, 3)\n",
      "(76, 78, 3)\n",
      "(38, 37, 3)\n",
      "(36, 36, 3)\n",
      "(54, 54, 3)\n",
      "(53, 51, 3)\n",
      "(56, 56, 3)\n",
      "(56, 56, 3)\n",
      "(49, 49, 3)\n",
      "(54, 54, 3)\n",
      "(31, 29, 3)\n",
      "(31, 31, 3)\n",
      "(25, 25, 3)\n",
      "(25, 26, 3)\n",
      "(30, 30, 3)\n",
      "(30, 31, 3)\n",
      "(35, 35, 3)\n",
      "(35, 35, 3)\n",
      "(60, 59, 3)\n",
      "(25, 25, 3)\n",
      "(26, 26, 3)\n",
      "(45, 45, 3)\n",
      "(44, 44, 3)\n",
      "(44, 44, 3)\n",
      "(24, 24, 3)\n",
      "(24, 27, 3)\n",
      "(41, 41, 3)\n",
      "(43, 45, 3)\n",
      "(51, 50, 3)\n",
      "(21, 22, 3)\n",
      "(20, 22, 3)\n",
      "(24, 25, 3)\n",
      "(24, 28, 3)\n",
      "(40, 40, 3)\n",
      "(42, 40, 3)\n",
      "(121, 124, 3)\n",
      "(47, 47, 3)\n",
      "(48, 48, 3)\n",
      "(24, 24, 3)\n",
      "(25, 25, 3)\n",
      "(41, 41, 3)\n",
      "(40, 40, 3)\n",
      "(65, 65, 3)\n",
      "(40, 40, 3)\n",
      "(41, 41, 3)\n",
      "(49, 49, 3)\n",
      "(48, 47, 3)\n",
      "(23, 23, 3)\n",
      "(38, 40, 3)\n",
      "(41, 39, 3)\n",
      "(27, 27, 3)\n",
      "(29, 29, 3)\n",
      "(61, 58, 3)\n",
      "(50, 50, 3)\n",
      "(20, 21, 3)\n",
      "(19, 21, 3)\n",
      "(43, 42, 3)\n",
      "(18, 18, 3)\n",
      "(24, 23, 3)\n",
      "(115, 113, 3)\n",
      "(40, 40, 3)\n",
      "(23, 23, 3)\n",
      "(51, 50, 3)\n",
      "(31, 31, 3)\n",
      "(27, 28, 3)\n",
      "(22, 23, 3)\n",
      "(21, 21, 3)\n",
      "(48, 50, 3)\n",
      "(52, 52, 3)\n",
      "(25, 26, 3)\n",
      "(48, 47, 3)\n",
      "(26, 25, 3)\n",
      "(30, 30, 3)\n",
      "(38, 36, 3)\n",
      "(41, 42, 3)\n",
      "(49, 50, 3)\n",
      "(56, 52, 3)\n",
      "(71, 66, 3)\n",
      "(33, 37, 3)\n",
      "(46, 46, 3)\n",
      "(111, 116, 3)\n",
      "(24, 24, 3)\n",
      "(23, 23, 3)\n",
      "(25, 25, 3)\n",
      "(23, 23, 3)\n",
      "(30, 29, 3)\n",
      "(35, 35, 3)\n",
      "(33, 33, 3)\n",
      "(34, 34, 3)\n",
      "(23, 23, 3)\n",
      "(30, 30, 3)\n",
      "(27, 27, 3)\n",
      "(27, 27, 3)\n",
      "(68, 69, 3)\n",
      "(40, 40, 3)\n",
      "(46, 45, 3)\n",
      "(23, 23, 3)\n",
      "(24, 24, 3)\n",
      "(45, 44, 3)\n",
      "(43, 44, 3)\n",
      "(28, 28, 3)\n",
      "(29, 28, 3)\n",
      "(60, 62, 3)\n",
      "(70, 69, 3)\n",
      "(34, 34, 3)\n",
      "(32, 34, 3)\n",
      "(25, 25, 3)\n",
      "(23, 22, 3)\n",
      "(34, 34, 3)\n",
      "(37, 36, 3)\n",
      "(38, 38, 3)\n",
      "(44, 45, 3)\n",
      "(24, 24, 3)\n",
      "(24, 28, 3)\n",
      "(42, 44, 3)\n",
      "(41, 42, 3)\n",
      "(53, 54, 3)\n",
      "(22, 24, 3)\n",
      "(22, 22, 3)\n",
      "(27, 28, 3)\n",
      "(26, 27, 3)\n",
      "(40, 40, 3)\n",
      "(42, 42, 3)\n",
      "(119, 120, 3)\n",
      "(49, 49, 3)\n",
      "(48, 48, 3)\n",
      "(25, 25, 3)\n",
      "(24, 24, 3)\n",
      "(40, 40, 3)\n",
      "(40, 40, 3)\n",
      "(66, 66, 3)\n",
      "(26, 26, 3)\n",
      "(24, 24, 3)\n",
      "(35, 35, 3)\n",
      "(25, 25, 3)\n",
      "(41, 41, 3)\n",
      "(42, 42, 3)\n",
      "(34, 34, 3)\n",
      "(33, 33, 3)\n",
      "(42, 42, 3)\n",
      "(38, 38, 3)\n",
      "(40, 39, 3)\n",
      "(75, 75, 3)\n",
      "(59, 57, 3)\n",
      "(44, 46, 3)\n",
      "(48, 48, 3)\n",
      "(31, 31, 3)\n",
      "(31, 31, 3)\n",
      "(35, 36, 3)\n",
      "(34, 34, 3)\n",
      "(21, 21, 3)\n",
      "(23, 23, 3)\n",
      "(17, 17, 3)\n",
      "(17, 17, 3)\n",
      "(56, 57, 3)\n",
      "(36, 42, 3)\n",
      "(21, 24, 3)\n",
      "(31, 31, 3)\n",
      "(37, 42, 3)\n",
      "(61, 69, 3)\n",
      "(49, 57, 3)\n",
      "(44, 48, 3)\n",
      "(34, 36, 3)\n",
      "(114, 122, 3)\n",
      "(84, 90, 3)\n",
      "(53, 57, 3)\n",
      "(36, 39, 3)\n",
      "(33, 33, 3)\n",
      "(33, 36, 3)\n",
      "(31, 39, 3)\n",
      "(55, 63, 3)\n",
      "(71, 78, 3)\n",
      "(28, 30, 3)\n",
      "(28, 28, 3)\n",
      "(81, 91, 3)\n",
      "(30, 31, 3)\n",
      "(52, 56, 3)\n",
      "(40, 44, 3)\n",
      "(41, 45, 3)\n",
      "(62, 69, 3)\n",
      "(41, 45, 3)\n",
      "(45, 49, 3)\n",
      "(54, 61, 3)\n",
      "(34, 40, 3)\n",
      "(37, 38, 3)\n",
      "(38, 38, 3)\n",
      "(79, 77, 3)\n",
      "(58, 59, 3)\n",
      "(57, 59, 3)\n",
      "(33, 32, 3)\n",
      "(32, 32, 3)\n",
      "(21, 23, 3)\n",
      "(85, 85, 3)\n",
      "(62, 62, 3)\n",
      "(31, 31, 3)\n",
      "(122, 122, 3)\n",
      "(44, 44, 3)\n",
      "(70, 70, 3)\n",
      "(51, 51, 3)\n",
      "(26, 26, 3)\n",
      "(42, 39, 3)\n",
      "(62, 62, 3)\n",
      "(24, 23, 3)\n",
      "(64, 64, 3)\n",
      "(28, 28, 3)\n",
      "(49, 51, 3)\n",
      "(39, 39, 3)\n",
      "(35, 34, 3)\n",
      "(25, 23, 3)\n",
      "(70, 70, 3)\n",
      "(116, 122, 3)\n",
      "(23, 23, 3)\n",
      "(24, 23, 3)\n",
      "(63, 60, 3)\n",
      "(20, 22, 3)\n",
      "(24, 24, 3)\n",
      "(78, 77, 3)\n",
      "(34, 33, 3)\n",
      "(28, 29, 3)\n",
      "(30, 29, 3)\n",
      "(103, 105, 3)\n",
      "(28, 28, 3)\n",
      "(52, 52, 3)\n",
      "(79, 80, 3)\n",
      "(31, 32, 3)\n",
      "(50, 53, 3)\n",
      "(82, 81, 3)\n",
      "(27, 26, 3)\n",
      "(74, 69, 3)\n",
      "(33, 30, 3)\n",
      "(29, 31, 3)\n",
      "(68, 72, 3)\n",
      "(114, 114, 3)\n",
      "(30, 29, 3)\n",
      "(45, 46, 3)\n",
      "(39, 37, 3)\n",
      "(42, 41, 3)\n",
      "(25, 25, 3)\n",
      "(35, 34, 3)\n",
      "(51, 54, 3)\n",
      "(29, 28, 3)\n",
      "(46, 46, 3)\n",
      "(99, 99, 3)\n",
      "(75, 75, 3)\n",
      "(47, 48, 3)\n",
      "(70, 71, 3)\n",
      "(32, 32, 3)\n",
      "(60, 57, 3)\n",
      "(49, 50, 3)\n",
      "(46, 45, 3)\n",
      "(116, 118, 3)\n",
      "(33, 34, 3)\n",
      "(32, 32, 3)\n",
      "(56, 59, 3)\n",
      "(30, 32, 3)\n",
      "(38, 42, 3)\n",
      "(27, 30, 3)\n",
      "(36, 37, 3)\n",
      "(112, 125, 3)\n",
      "(39, 45, 3)\n",
      "(34, 32, 3)\n",
      "(22, 24, 3)\n",
      "(22, 22, 3)\n",
      "(72, 79, 3)\n",
      "(89, 99, 3)\n",
      "(37, 42, 3)\n",
      "(29, 31, 3)\n",
      "(38, 41, 3)\n",
      "(41, 45, 3)\n",
      "(23, 22, 3)\n",
      "(41, 44, 3)\n",
      "(41, 47, 3)\n",
      "(80, 91, 3)\n",
      "(68, 75, 3)\n",
      "(52, 58, 3)\n",
      "(32, 36, 3)\n",
      "(36, 38, 3)\n",
      "(55, 62, 3)\n",
      "(46, 51, 3)\n",
      "(96, 110, 3)\n",
      "(79, 92, 3)\n",
      "(78, 88, 3)\n",
      "(71, 76, 3)\n",
      "(41, 43, 3)\n",
      "(40, 44, 3)\n",
      "(100, 108, 3)\n",
      "(37, 41, 3)\n",
      "(69, 75, 3)\n",
      "(34, 33, 3)\n",
      "(25, 27, 3)\n",
      "(65, 73, 3)\n",
      "(28, 31, 3)\n",
      "(75, 80, 3)\n",
      "(78, 87, 3)\n",
      "(40, 43, 3)\n",
      "(39, 42, 3)\n",
      "(81, 91, 3)\n",
      "(45, 53, 3)\n",
      "(30, 35, 3)\n",
      "(36, 35, 3)\n",
      "(42, 44, 3)\n",
      "(22, 17, 3)\n",
      "(24, 29, 3)\n",
      "(43, 48, 3)\n",
      "(48, 49, 3)\n",
      "(36, 40, 3)\n",
      "(30, 32, 3)\n",
      "(27, 31, 3)\n",
      "(61, 67, 3)\n",
      "(52, 59, 3)\n",
      "(64, 72, 3)\n",
      "(35, 36, 3)\n",
      "(43, 45, 3)\n",
      "(59, 66, 3)\n",
      "(32, 35, 3)\n",
      "(33, 36, 3)\n",
      "(35, 38, 3)\n",
      "(24, 24, 3)\n",
      "(29, 29, 3)\n",
      "(52, 50, 3)\n",
      "(54, 53, 3)\n",
      "(100, 101, 3)\n",
      "(30, 29, 3)\n",
      "(43, 43, 3)\n",
      "(40, 40, 3)\n",
      "(108, 108, 3)\n",
      "(24, 25, 3)\n",
      "(78, 76, 3)\n",
      "(47, 46, 3)\n",
      "(49, 49, 3)\n",
      "(107, 111, 3)\n",
      "(129, 119, 3)\n",
      "(33, 33, 3)\n",
      "(34, 34, 3)\n",
      "(56, 56, 3)\n",
      "(30, 30, 3)\n",
      "(64, 61, 3)\n",
      "(59, 56, 3)\n",
      "(25, 25, 3)\n",
      "(25, 25, 3)\n",
      "(37, 37, 3)\n",
      "(64, 64, 3)\n",
      "(37, 37, 3)\n",
      "(34, 34, 3)\n",
      "(30, 29, 3)\n",
      "(44, 43, 3)\n",
      "(40, 41, 3)\n",
      "(90, 79, 3)\n",
      "(34, 35, 3)\n",
      "(26, 23, 3)\n",
      "(27, 27, 3)\n",
      "(47, 47, 3)\n",
      "(28, 28, 3)\n",
      "(30, 30, 3)\n",
      "(40, 35, 3)\n",
      "(26, 26, 3)\n",
      "(41, 42, 3)\n",
      "(50, 50, 3)\n",
      "(77, 77, 3)\n",
      "(24, 24, 3)\n",
      "(34, 34, 3)\n",
      "(35, 34, 3)\n",
      "(78, 76, 3)\n",
      "(40, 40, 3)\n",
      "(39, 37, 3)\n",
      "(30, 18, 3)\n",
      "(42, 33, 3)\n",
      "(19, 19, 3)\n",
      "(20, 20, 3)\n",
      "(19, 19, 3)\n",
      "(24, 25, 3)\n",
      "(24, 23, 3)\n",
      "(26, 25, 3)\n",
      "(32, 32, 3)\n",
      "(34, 33, 3)\n",
      "(32, 30, 3)\n",
      "(36, 34, 3)\n",
      "(38, 41, 3)\n",
      "(34, 37, 3)\n",
      "(43, 37, 3)\n",
      "(27, 21, 3)\n",
      "(45, 45, 3)\n",
      "(105, 108, 3)\n",
      "(29, 29, 3)\n",
      "(28, 28, 3)\n",
      "(31, 31, 3)\n",
      "(75, 80, 3)\n",
      "(47, 48, 3)\n",
      "(29, 28, 3)\n",
      "(72, 80, 3)\n",
      "(24, 27, 3)\n",
      "(56, 65, 3)\n",
      "(33, 37, 3)\n",
      "(81, 95, 3)\n",
      "(71, 79, 3)\n",
      "(36, 40, 3)\n",
      "(26, 27, 3)\n",
      "(112, 128, 3)\n",
      "(19, 22, 3)\n",
      "(52, 52, 3)\n",
      "(71, 75, 3)\n",
      "(64, 68, 3)\n",
      "(46, 49, 3)\n",
      "(28, 32, 3)\n",
      "(27, 28, 3)\n",
      "(77, 85, 3)\n",
      "(71, 79, 3)\n",
      "(92, 101, 3)\n",
      "(29, 31, 3)\n",
      "(28, 33, 3)\n",
      "(34, 37, 3)\n",
      "(52, 57, 3)\n",
      "(36, 38, 3)\n",
      "(43, 46, 3)\n",
      "(44, 47, 3)\n",
      "(32, 35, 3)\n",
      "(25, 29, 3)\n",
      "(61, 65, 3)\n",
      "(39, 44, 3)\n",
      "(34, 35, 3)\n",
      "(36, 38, 3)\n",
      "(35, 37, 3)\n",
      "(25, 27, 3)\n",
      "(26, 29, 3)\n",
      "(32, 33, 3)\n",
      "(68, 70, 3)\n",
      "(78, 71, 3)\n",
      "(20, 21, 3)\n",
      "(49, 53, 3)\n",
      "(56, 59, 3)\n",
      "(97, 108, 3)\n",
      "(65, 70, 3)\n",
      "(41, 43, 3)\n",
      "(23, 24, 3)\n",
      "(20, 23, 3)\n",
      "(30, 34, 3)\n",
      "(52, 60, 3)\n",
      "(42, 47, 3)\n",
      "(36, 38, 3)\n",
      "(95, 91, 3)\n",
      "(58, 62, 3)\n",
      "(74, 81, 3)\n",
      "(27, 30, 3)\n",
      "(28, 32, 3)\n",
      "(60, 68, 3)\n",
      "(25, 27, 3)\n",
      "(31, 32, 3)\n",
      "(88, 96, 3)\n",
      "(25, 26, 3)\n",
      "(71, 82, 3)\n",
      "(41, 45, 3)\n",
      "(71, 80, 3)\n",
      "(43, 50, 3)\n",
      "(55, 61, 3)\n",
      "(37, 41, 3)\n",
      "(31, 32, 3)\n",
      "(55, 63, 3)\n",
      "(46, 49, 3)\n",
      "(37, 39, 3)\n",
      "(55, 59, 3)\n",
      "(48, 50, 3)\n",
      "(43, 46, 3)\n",
      "(38, 42, 3)\n",
      "(75, 84, 3)\n",
      "(53, 55, 3)\n",
      "(41, 44, 3)\n",
      "(25, 29, 3)\n",
      "(118, 125, 3)\n",
      "(66, 73, 3)\n",
      "(54, 59, 3)\n",
      "(36, 41, 3)\n",
      "(29, 31, 3)\n",
      "(79, 87, 3)\n",
      "(89, 95, 3)\n",
      "(112, 121, 3)\n",
      "(55, 57, 3)\n",
      "(36, 39, 3)\n",
      "(34, 36, 3)\n",
      "(35, 39, 3)\n",
      "(62, 69, 3)\n",
      "(67, 74, 3)\n",
      "(29, 32, 3)\n",
      "(30, 33, 3)\n",
      "(27, 27, 3)\n",
      "(63, 67, 3)\n",
      "(41, 40, 3)\n",
      "(42, 45, 3)\n",
      "(51, 55, 3)\n",
      "(25, 28, 3)\n",
      "(24, 28, 3)\n",
      "(31, 35, 3)\n",
      "(30, 34, 3)\n",
      "(24, 28, 3)\n",
      "(49, 55, 3)\n",
      "(47, 54, 3)\n",
      "(59, 62, 3)\n",
      "(64, 71, 3)\n",
      "(50, 53, 3)\n",
      "(26, 26, 3)\n",
      "(31, 34, 3)\n",
      "(23, 26, 3)\n",
      "(32, 36, 3)\n",
      "(64, 70, 3)\n",
      "(91, 93, 3)\n",
      "(45, 51, 3)\n",
      "(38, 40, 3)\n",
      "(76, 88, 3)\n",
      "(51, 56, 3)\n",
      "(53, 58, 3)\n",
      "(89, 103, 3)\n",
      "(100, 109, 3)\n",
      "(58, 66, 3)\n",
      "(43, 48, 3)\n",
      "(31, 33, 3)\n",
      "(107, 124, 3)\n",
      "(35, 39, 3)\n",
      "(36, 40, 3)\n",
      "(64, 72, 3)\n",
      "(53, 58, 3)\n",
      "(54, 59, 3)\n",
      "(57, 62, 3)\n",
      "(105, 119, 3)\n",
      "(30, 35, 3)\n",
      "(30, 34, 3)\n",
      "(65, 67, 3)\n",
      "(64, 67, 3)\n",
      "(49, 52, 3)\n",
      "(31, 35, 3)\n",
      "(44, 45, 3)\n",
      "(29, 28, 3)\n",
      "(32, 31, 3)\n",
      "(27, 27, 3)\n",
      "(29, 29, 3)\n",
      "(88, 88, 3)\n",
      "(25, 21, 3)\n",
      "(91, 91, 3)\n",
      "(47, 45, 3)\n",
      "(65, 66, 3)\n",
      "(62, 61, 3)\n",
      "(29, 27, 3)\n",
      "(72, 75, 3)\n",
      "(20, 20, 3)\n",
      "(57, 56, 3)\n",
      "(43, 42, 3)\n",
      "(36, 33, 3)\n",
      "(26, 26, 3)\n",
      "(32, 32, 3)\n",
      "(28, 22, 3)\n",
      "(42, 40, 3)\n",
      "(18, 19, 3)\n",
      "(53, 53, 3)\n",
      "(57, 54, 3)\n",
      "(74, 75, 3)\n",
      "(24, 23, 3)\n",
      "(25, 25, 3)\n",
      "(59, 59, 3)\n",
      "(33, 33, 3)\n",
      "(27, 27, 3)\n",
      "(27, 26, 3)\n",
      "(62, 63, 3)\n",
      "(37, 34, 3)\n",
      "(34, 34, 3)\n",
      "(22, 22, 3)\n",
      "(59, 59, 3)\n",
      "(18, 18, 3)\n",
      "(32, 32, 3)\n",
      "(27, 26, 3)\n",
      "(22, 20, 3)\n",
      "(26, 22, 3)\n",
      "(62, 59, 3)\n",
      "(50, 50, 3)\n",
      "(36, 38, 3)\n",
      "(24, 23, 3)\n",
      "(46, 46, 3)\n",
      "(38, 38, 3)\n",
      "(36, 36, 3)\n",
      "(19, 18, 3)\n",
      "(19, 19, 3)\n",
      "(60, 60, 3)\n",
      "(23, 23, 3)\n",
      "(34, 33, 3)\n",
      "(59, 57, 3)\n",
      "(27, 27, 3)\n",
      "(67, 67, 3)\n",
      "(40, 39, 3)\n",
      "(22, 23, 3)\n",
      "(34, 35, 3)\n",
      "(94, 63, 3)\n",
      "(40, 40, 3)\n",
      "(21, 21, 3)\n",
      "(28, 28, 3)\n",
      "(53, 50, 3)\n",
      "(43, 39, 3)\n",
      "(23, 17, 3)\n",
      "(89, 85, 3)\n",
      "(29, 28, 3)\n",
      "(54, 49, 3)\n",
      "(23, 22, 3)\n",
      "(59, 59, 3)\n",
      "(60, 57, 3)\n",
      "(46, 44, 3)\n",
      "(22, 22, 3)\n",
      "(32, 32, 3)\n",
      "(40, 28, 3)\n",
      "(73, 73, 3)\n",
      "(18, 18, 3)\n",
      "(26, 25, 3)\n",
      "(23, 21, 3)\n",
      "(30, 29, 3)\n",
      "(33, 34, 3)\n",
      "(73, 69, 3)\n",
      "(96, 93, 3)\n",
      "(79, 78, 3)\n",
      "(54, 45, 3)\n",
      "(57, 57, 3)\n",
      "(34, 34, 3)\n",
      "(22, 22, 3)\n",
      "(57, 57, 3)\n",
      "(61, 54, 3)\n",
      "(34, 34, 3)\n",
      "(23, 22, 3)\n",
      "(32, 31, 3)\n",
      "(20, 20, 3)\n",
      "(23, 23, 3)\n",
      "(25, 25, 3)\n",
      "(70, 59, 3)\n",
      "(41, 34, 3)\n",
      "(49, 50, 3)\n",
      "(112, 110, 3)\n",
      "(35, 35, 3)\n",
      "(72, 70, 3)\n",
      "(33, 32, 3)\n",
      "(19, 17, 3)\n",
      "(17, 17, 3)\n",
      "(59, 59, 3)\n",
      "(20, 21, 3)\n",
      "(33, 33, 3)\n",
      "(25, 25, 3)\n",
      "(92, 92, 3)\n",
      "(50, 48, 3)\n",
      "(82, 71, 3)\n",
      "(50, 49, 3)\n",
      "(23, 24, 3)\n",
      "(58, 55, 3)\n",
      "(23, 23, 3)\n",
      "(23, 22, 3)\n",
      "(21, 21, 3)\n",
      "(36, 36, 3)\n",
      "(30, 30, 3)\n",
      "(45, 45, 3)\n",
      "(67, 67, 3)\n",
      "(117, 115, 3)\n",
      "(64, 58, 3)\n",
      "(28, 28, 3)\n",
      "(21, 21, 3)\n",
      "(23, 22, 3)\n",
      "(45, 42, 3)\n",
      "(35, 34, 3)\n",
      "(32, 32, 3)\n",
      "(72, 72, 3)\n",
      "(31, 30, 3)\n",
      "(31, 31, 3)\n",
      "(21, 21, 3)\n",
      "(27, 26, 3)\n",
      "(125, 123, 3)\n",
      "(27, 27, 3)\n",
      "(30, 29, 3)\n",
      "(55, 54, 3)\n",
      "(22, 22, 3)\n",
      "(22, 22, 3)\n",
      "(60, 60, 3)\n",
      "(41, 41, 3)\n",
      "(34, 33, 3)\n",
      "(38, 39, 3)\n",
      "(39, 39, 3)\n",
      "(25, 24, 3)\n",
      "(27, 27, 3)\n",
      "(35, 35, 3)\n",
      "(36, 36, 3)\n"
     ]
    }
   ],
   "source": [
    "train = []\n",
    "PATH_TRAIN = \"./images/train/\"\n",
    "train_dir_list = os.listdir(PATH_TRAIN)\n",
    "for i in train_dir_list:\n",
    "    img = io.imread(PATH_TRAIN+i)\n",
    "    print(img.shape)"
   ]
  },
  {
   "cell_type": "code",
   "execution_count": 33,
   "metadata": {},
   "outputs": [
    {
     "data": {
      "text/plain": [
       "966"
      ]
     },
     "execution_count": 33,
     "metadata": {},
     "output_type": "execute_result"
    }
   ],
   "source": [
    "train_y = []\n",
    "for i in target.values:\n",
    "    train_y.append(i[1])\n",
    "len(train_y)"
   ]
  },
  {
   "cell_type": "code",
   "execution_count": 15,
   "metadata": {},
   "outputs": [],
   "source": [
    "with open(PATH_TRAIN+\"/target.csv\", \"w\") as target:\n",
    "    target.write(\"Img_num,classID\\n\")\n",
    "    \n",
    "    images = os.listdir(PATH_TRAIN)\n",
    "    \n",
    "    for img in images:\n",
    "        target.write(img+\",\"+img[:2]+\"\\n\")\n",
    "target.close()\n",
    "#os.rename(path_dataset[:-4]+\"/target.csv\",\"./images/target.csv\")"
   ]
  },
  {
   "cell_type": "code",
   "execution_count": 13,
   "metadata": {},
   "outputs": [
    {
     "data": {
      "text/plain": [
       "'01'"
      ]
     },
     "execution_count": 13,
     "metadata": {},
     "output_type": "execute_result"
    }
   ],
   "source": [
    "\"01000\"[:2]"
   ]
  },
  {
   "cell_type": "markdown",
   "metadata": {},
   "source": [
    "#### Prueba HOG"
   ]
  },
  {
   "cell_type": "code",
   "execution_count": 154,
   "metadata": {},
   "outputs": [],
   "source": []
  },
  {
   "cell_type": "code",
   "execution_count": 108,
   "metadata": {},
   "outputs": [
    {
     "data": {
      "text/plain": [
       "<matplotlib.image.AxesImage at 0xd1e4da50f0>"
      ]
     },
     "execution_count": 108,
     "metadata": {},
     "output_type": "execute_result"
    },
    {
     "data": {
      "image/png": "[encoded data removed]",
      "text/plain": [
       "<Figure size 432x288 with 1 Axes>"
      ]
     },
     "metadata": {},
     "output_type": "display_data"
    }
   ],
   "source": [
    "maxsize = (128, 128)\n",
    "img = Image.open(\"images/test/3200006.ppm\")\n",
    "tn_image = img.resize(maxsize, Image.ANTIALIAS)\n",
    "bn = np.mean(tn_image,axis=2)\n",
    "plt.imshow(bn)"
   ]
  },
  {
   "cell_type": "code",
   "execution_count": 177,
   "metadata": {},
   "outputs": [
    {
     "data": {
      "text/plain": [
       "16384"
      ]
     },
     "execution_count": 177,
     "metadata": {},
     "output_type": "execute_result"
    }
   ],
   "source": [
    "bn.size"
   ]
  },
  {
   "cell_type": "code",
   "execution_count": 109,
   "metadata": {},
   "outputs": [
    {
     "name": "stderr",
     "output_type": "stream",
     "text": [
      "c:\\users\\daielchom\\appdata\\local\\programs\\python\\python36\\lib\\site-packages\\skimage\\feature\\_hog.py:119: skimage_deprecation: Default value of `block_norm`==`L1` is deprecated and will be changed to `L2-Hys` in v0.15\n",
      "  'be changed to `L2-Hys` in v0.15', skimage_deprecation)\n"
     ]
    }
   ],
   "source": [
    "fd = hog(bn, orientations=8, pixels_per_cell=(16, 16), cells_per_block=(1, 1), feature_vector=True)"
   ]
  },
  {
   "cell_type": "code",
   "execution_count": 179,
   "metadata": {},
   "outputs": [
    {
     "data": {
      "text/plain": [
       "(512,)"
      ]
     },
     "execution_count": 179,
     "metadata": {},
     "output_type": "execute_result"
    }
   ],
   "source": [
    "fd.shape"
   ]
  },
  {
   "cell_type": "code",
   "execution_count": 44,
   "metadata": {},
   "outputs": [
    {
     "name": "stderr",
     "output_type": "stream",
     "text": [
      "c:\\users\\daielchom\\appdata\\local\\programs\\python\\python36\\lib\\site-packages\\skimage\\feature\\_hog.py:119: skimage_deprecation: Default value of `block_norm`==`L1` is deprecated and will be changed to `L2-Hys` in v0.15\n",
      "  'be changed to `L2-Hys` in v0.15', skimage_deprecation)\n"
     ]
    }
   ],
   "source": [
    "fd, hog_image = hog(bn, orientations=8, pixels_per_cell=(16, 16), cells_per_block=(1, 1), visualise=True)"
   ]
  },
  {
   "cell_type": "code",
   "execution_count": 45,
   "metadata": {},
   "outputs": [
    {
     "data": {
      "text/plain": [
       "<matplotlib.image.AxesImage at 0xd1de07cb70>"
      ]
     },
     "execution_count": 45,
     "metadata": {},
     "output_type": "execute_result"
    },
    {
     "data": {
      "image/png": "[encoded data removed]",
      "text/plain": [
       "<Figure size 432x288 with 1 Axes>"
      ]
     },
     "metadata": {},
     "output_type": "display_data"
    }
   ],
   "source": [
    "plt.imshow(hog_image)"
   ]
  },
  {
   "cell_type": "markdown",
   "metadata": {},
   "source": [
    "## Get X y"
   ]
  },
  {
   "cell_type": "code",
   "execution_count": 9,
   "metadata": {},
   "outputs": [],
   "source": [
    "train_image = []\n",
    "PATH_TRAIN = \"./images/train/\"\n",
    "train_dir_list = os.listdir(PATH_TRAIN)\n",
    "for i in train_dir_list:\n",
    "    train_image.append(Image.open(PATH_TRAIN+i))"
   ]
  },
  {
   "cell_type": "code",
   "execution_count": 10,
   "metadata": {},
   "outputs": [
    {
     "data": {
      "text/plain": [
       "966"
      ]
     },
     "execution_count": 10,
     "metadata": {},
     "output_type": "execute_result"
    }
   ],
   "source": [
    "len(train_image)"
   ]
  },
  {
   "cell_type": "code",
   "execution_count": 12,
   "metadata": {},
   "outputs": [],
   "source": [
    "train_main_image = []\n",
    "for i in train_image:\n",
    "    train_main_image.append(np.mean(i, axis=2))\n"
   ]
  },
  {
   "cell_type": "code",
   "execution_count": 13,
   "metadata": {},
   "outputs": [
    {
     "data": {
      "text/plain": [
       "966"
      ]
     },
     "execution_count": 13,
     "metadata": {},
     "output_type": "execute_result"
    }
   ],
   "source": [
    "len(train_main_image)"
   ]
  },
  {
   "cell_type": "code",
   "execution_count": 27,
   "metadata": {},
   "outputs": [
    {
     "data": {
      "text/plain": [
       "<matplotlib.image.AxesImage at 0xd1d33c12b0>"
      ]
     },
     "execution_count": 27,
     "metadata": {},
     "output_type": "execute_result"
    },
    {
     "data": {
      "image/png": "[encoded data removed]",
      "text/plain": [
       "<Figure size 432x288 with 1 Axes>"
      ]
     },
     "metadata": {},
     "output_type": "display_data"
    }
   ],
   "source": [
    "plt.imshow(train_main_image[965])"
   ]
  },
  {
   "cell_type": "code",
   "execution_count": 28,
   "metadata": {},
   "outputs": [
    {
     "name": "stdout",
     "output_type": "stream",
     "text": [
      "42\n"
     ]
    }
   ],
   "source": [
    "print(train_Y[965])"
   ]
  },
  {
   "cell_type": "code",
   "execution_count": 47,
   "metadata": {},
   "outputs": [
    {
     "name": "stderr",
     "output_type": "stream",
     "text": [
      "c:\\users\\daielchom\\appdata\\local\\programs\\python\\python36\\lib\\site-packages\\skimage\\feature\\_hog.py:119: skimage_deprecation: Default value of `block_norm`==`L1` is deprecated and will be changed to `L2-Hys` in v0.15\n",
      "  'be changed to `L2-Hys` in v0.15', skimage_deprecation)\n"
     ]
    }
   ],
   "source": [
    "train_X = []\n",
    "for i in train_main_image:\n",
    "    train_X.append(hog(bn, orientations=8, pixels_per_cell=(16, 16), cells_per_block=(1, 1), feature_vector=True))\n",
    "    "
   ]
  },
  {
   "cell_type": "code",
   "execution_count": 49,
   "metadata": {},
   "outputs": [
    {
     "data": {
      "text/plain": [
       "966"
      ]
     },
     "execution_count": 49,
     "metadata": {},
     "output_type": "execute_result"
    }
   ],
   "source": [
    "len(train_X)"
   ]
  },
  {
   "cell_type": "code",
   "execution_count": null,
   "metadata": {},
   "outputs": [],
   "source": []
  },
  {
   "cell_type": "markdown",
   "metadata": {},
   "source": [
    "### Logistic Regresssion"
   ]
  },
  {
   "cell_type": "code",
   "execution_count": 67,
   "metadata": {},
   "outputs": [],
   "source": [
    "from sklearn.linear_model import LogisticRegression"
   ]
  },
  {
   "cell_type": "code",
   "execution_count": 68,
   "metadata": {},
   "outputs": [
    {
     "data": {
      "text/plain": [
       "(512, 966)"
      ]
     },
     "execution_count": 68,
     "metadata": {},
     "output_type": "execute_result"
    }
   ],
   "source": [
    "len(train_X[0]), len(train_y)http://tuanimeligero.net/lista-de-animes/"
   ]
  },
  {
   "cell_type": "code",
   "execution_count": 147,
   "metadata": {},
   "outputs": [],
   "source": [
    "lg = LogisticRegression(solver=\"saga\", multi_class=\"ovr\",n_jobs=1)"
   ]
  },
  {
   "cell_type": "code",
   "execution_count": 148,
   "metadata": {},
   "outputs": [
    {
     "name": "stderr",
     "output_type": "stream",
     "text": [
      "c:\\users\\daielchom\\appdata\\local\\programs\\python\\python36\\lib\\site-packages\\sklearn\\linear_model\\sag.py:326: ConvergenceWarning: The max_iter was reached which means the coef_ did not converge\n",
      "  \"the coef_ did not converge\", ConvergenceWarning)\n"
     ]
    },
    {
     "data": {
      "text/plain": [
       "LogisticRegression(C=1.0, class_weight=None, dual=False, fit_intercept=True,\n",
       "          intercept_scaling=1, max_iter=100, multi_class='ovr', n_jobs=1,\n",
       "          penalty='l2', random_state=None, solver='saga', tol=0.0001,\n",
       "          verbose=0, warm_start=False)"
      ]
     },
     "execution_count": 148,
     "metadata": {},
     "output_type": "execute_result"
    }
   ],
   "source": [
    "lg.fit(train_X, train_y)"
   ]
  },
  {
   "cell_type": "code",
   "execution_count": 110,
   "metadata": {},
   "outputs": [],
   "source": [
    "s = np.array(fd)"
   ]
  },
  {
   "cell_type": "code",
   "execution_count": 111,
   "metadata": {},
   "outputs": [
    {
     "name": "stdout",
     "output_type": "stream",
     "text": [
      "(1, 512)\n"
     ]
    }
   ],
   "source": [
    "s = s.reshape(-1,512)\n",
    "print(s.shape)"
   ]
  },
  {
   "cell_type": "code",
   "execution_count": 134,
   "metadata": {},
   "outputs": [
    {
     "data": {
      "text/plain": [
       "array([38])"
      ]
     },
     "execution_count": 134,
     "metadata": {},
     "output_type": "execute_result"
    }
   ],
   "source": [
    "lg.predict(s)"
   ]
  },
  {
   "cell_type": "markdown",
   "metadata": {},
   "source": [
    "### TEST"
   ]
  },
  {
   "cell_type": "code",
   "execution_count": 113,
   "metadata": {},
   "outputs": [],
   "source": [
    "test_image = []\n",
    "PATH_TEST = \"./images/test/\"\n",
    "train_dir_list = os.listdir(PATH_TEST)\n",
    "for i in train_dir_list:\n",
    "    test_image.append(Image.open(PATH_TEST+i))"
   ]
  },
  {
   "cell_type": "code",
   "execution_count": 114,
   "metadata": {},
   "outputs": [],
   "source": [
    "test_main_image = []\n",
    "for i in test_image:\n",
    "    test_main_image.append(np.mean(i, axis=2))"
   ]
  },
  {
   "cell_type": "code",
   "execution_count": 115,
   "metadata": {},
   "outputs": [
    {
     "name": "stderr",
     "output_type": "stream",
     "text": [
      "c:\\users\\daielchom\\appdata\\local\\programs\\python\\python36\\lib\\site-packages\\skimage\\feature\\_hog.py:119: skimage_deprecation: Default value of `block_norm`==`L1` is deprecated and will be changed to `L2-Hys` in v0.15\n",
      "  'be changed to `L2-Hys` in v0.15', skimage_deprecation)\n"
     ]
    }
   ],
   "source": [
    "test_X = []\n",
    "for i in test_main_image:\n",
    "    test_X.append(hog(bn, orientations=8, pixels_per_cell=(16, 16), cells_per_block=(1, 1), feature_vector=True))"
   ]
  },
  {
   "cell_type": "code",
   "execution_count": null,
   "metadata": {},
   "outputs": [],
   "source": []
  },
  {
   "cell_type": "code",
   "execution_count": 118,
   "metadata": {},
   "outputs": [
    {
     "data": {
      "text/plain": [
       "247"
      ]
     },
     "execution_count": 118,
     "metadata": {},
     "output_type": "execute_result"
    }
   ],
   "source": [
    "test_y = []\n",
    "for i in target_test.values:\n",
    "    test_y.append(i[1])\n",
    "len(test_y)"
   ]
  },
  {
   "cell_type": "code",
   "execution_count": 121,
   "metadata": {},
   "outputs": [
    {
     "data": {
      "text/plain": [
       "(247, 247)"
      ]
     },
     "execution_count": 121,
     "metadata": {},
     "output_type": "execute_result"
    }
   ],
   "source": [
    "len(test_X), len(test_y)"
   ]
  },
  {
   "cell_type": "code",
   "execution_count": 149,
   "metadata": {},
   "outputs": [
    {
     "data": {
      "text/plain": [
       "0.0728744939271255"
      ]
     },
     "execution_count": 149,
     "metadata": {},
     "output_type": "execute_result"
    }
   ],
   "source": [
    "lg.score(test_X, test_y)"
   ]
  },
  {
   "cell_type": "code",
   "execution_count": null,
   "metadata": {},
   "outputs": [],
   "source": []
  }
 ],
 "metadata": {
  "kernelspec": {
   "display_name": "Python 3",
   "language": "python",
   "name": "python3"
  },
  "language_info": {
   "codemirror_mode": {
    "name": "ipython",
    "version": 3
   },
   "file_extension": ".py",
   "mimetype": "text/x-python",
   "name": "python",
   "nbconvert_exporter": "python",
   "pygments_lexer": "ipython3",
   "version": "3.6.5"
  }
 },
 "nbformat": 4,
 "nbformat_minor": 2
}
